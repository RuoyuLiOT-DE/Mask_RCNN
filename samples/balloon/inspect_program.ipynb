{
 "cells": [
  {
   "cell_type": "code",
   "execution_count": 5,
   "metadata": {},
   "outputs": [
    {
     "name": "stdout",
     "output_type": "stream",
     "text": [
      "{'filename': '28503151_5b5b7ec140_b.jpg', 'regions': {'0': {'region_attributes': {}, 'shape_attributes': {'all_points_x': [], 'all_points_y': [], 'name': 'polygon'}}}, 'size': 100202}\n",
      "['28503151_5b5b7ec140_b.jpg', {'0': {'region_attributes': {}, 'shape_attributes': {'all_points_x': [], 'all_points_y': [], 'name': 'polygon'}}}, 100202]\n"
     ]
    }
   ],
   "source": [
    "import json\n",
    "\n",
    "annotations = json.load(open(\"annotation.json\"))\n",
    "print(annotations)\n",
    "annotations = list(annotations.values())  # don't need the dict keys\n",
    "print(annotations)"
   ]
  }
 ],
 "metadata": {
  "interpreter": {
   "hash": "68dccddfe75073bc7d4c49520e907033621172344f1ad41b96fbcbb19dbbbd35"
  },
  "kernelspec": {
   "display_name": "Python 3.8.10 64-bit",
   "language": "python",
   "name": "python3"
  },
  "language_info": {
   "codemirror_mode": {
    "name": "ipython",
    "version": 3
   },
   "file_extension": ".py",
   "mimetype": "text/x-python",
   "name": "python",
   "nbconvert_exporter": "python",
   "pygments_lexer": "ipython3",
   "version": "3.8.10"
  },
  "orig_nbformat": 4
 },
 "nbformat": 4,
 "nbformat_minor": 2
}
